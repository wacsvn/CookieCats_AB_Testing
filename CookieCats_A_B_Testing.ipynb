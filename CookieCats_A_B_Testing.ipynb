{
  "nbformat": 4,
  "nbformat_minor": 0,
  "metadata": {
    "colab": {
      "provenance": [],
      "toc_visible": true,
      "mount_file_id": "110cxlYoAfyRGUdKz0jeSQaATBR5uZLqL",
      "authorship_tag": "ABX9TyNGThO3wdMgp/4oKcqRDEs7",
      "include_colab_link": true
    },
    "kernelspec": {
      "name": "python3",
      "display_name": "Python 3"
    },
    "language_info": {
      "name": "python"
    }
  },
  "cells": [
    {
      "cell_type": "markdown",
      "metadata": {
        "id": "view-in-github",
        "colab_type": "text"
      },
      "source": [
        "<a href=\"https://colab.research.google.com/github/wacsvn/CookieCats_AB_Testing/blob/main/CookieCats_A_B_Testing.ipynb\" target=\"_parent\"><img src=\"https://colab.research.google.com/assets/colab-badge.svg\" alt=\"Open In Colab\"/></a>"
      ]
    },
    {
      "cell_type": "markdown",
      "source": [
        "# Setup\n",
        "\n",
        "Cookie Cats is a hugely popular mobile puzzle game developed by Tactile Entertainment. It's a classic \"connect three\" style puzzle game where the player must connect tiles of the same color in order to clear the board and win the level.\n",
        "\n",
        "As players progress through the game they will encounter gates that force them to wait some time before they can progress or make an in-app purchase.\n",
        "\n",
        "In this project, we will analyze the result of an A/B test where the first gate in Cookie Cats was moved from level 30 to level 40. In particular, we will analyze the impact on player retention and game rounds."
      ],
      "metadata": {
        "id": "VQvN3d9qsZOd"
      }
    },
    {
      "cell_type": "code",
      "source": [
        "import numpy as np\n",
        "import pandas as pd\n",
        "import seaborn as sns\n",
        "import matplotlib.pyplot as plt\n",
        "import os\n",
        "import io\n",
        "\n",
        "# Hypothesis Testing\n",
        "from scipy.stats import shapiro\n",
        "import scipy.stats as stats\n",
        "\n",
        "# Configuration\n",
        "# -----------------------------------\n",
        "import warnings\n",
        "warnings.filterwarnings(\"ignore\")\n",
        "warnings.simplefilter(action='ignore', category=FutureWarning)\n",
        "\n",
        "pd.set_option('display.max_columns', None)\n",
        "pd.options.display.float_format = '{:.4f}'.format"
      ],
      "metadata": {
        "id": "GXu7axlBswpM"
      },
      "execution_count": 1,
      "outputs": []
    },
    {
      "cell_type": "markdown",
      "source": [
        "## Load Dataset"
      ],
      "metadata": {
        "id": "fJRbRXNLuygL"
      }
    },
    {
      "cell_type": "code",
      "source": [
        "# Path if running through Colab\n",
        "path = '/content/drive/MyDrive/cookie_cats.csv'"
      ],
      "metadata": {
        "id": "IFvZl_5RuxCm"
      },
      "execution_count": 2,
      "outputs": []
    },
    {
      "cell_type": "code",
      "source": [
        "df = pd.read_csv(path)\n",
        "df.head()"
      ],
      "metadata": {
        "colab": {
          "base_uri": "https://localhost:8080/",
          "height": 206
        },
        "id": "raa4qUhZsd4F",
        "outputId": "cc7a927f-0164-49e5-e441-13390d7a4d00"
      },
      "execution_count": 3,
      "outputs": [
        {
          "output_type": "execute_result",
          "data": {
            "text/plain": [
              "   userid  version  sum_gamerounds  retention_1  retention_7\n",
              "0     116  gate_30               3        False        False\n",
              "1     337  gate_30              38         True        False\n",
              "2     377  gate_40             165         True        False\n",
              "3     483  gate_40               1        False        False\n",
              "4     488  gate_40             179         True         True"
            ],
            "text/html": [
              "\n",
              "  <div id=\"df-1a9de1dd-a311-4b34-8832-118c954b77e8\" class=\"colab-df-container\">\n",
              "    <div>\n",
              "<style scoped>\n",
              "    .dataframe tbody tr th:only-of-type {\n",
              "        vertical-align: middle;\n",
              "    }\n",
              "\n",
              "    .dataframe tbody tr th {\n",
              "        vertical-align: top;\n",
              "    }\n",
              "\n",
              "    .dataframe thead th {\n",
              "        text-align: right;\n",
              "    }\n",
              "</style>\n",
              "<table border=\"1\" class=\"dataframe\">\n",
              "  <thead>\n",
              "    <tr style=\"text-align: right;\">\n",
              "      <th></th>\n",
              "      <th>userid</th>\n",
              "      <th>version</th>\n",
              "      <th>sum_gamerounds</th>\n",
              "      <th>retention_1</th>\n",
              "      <th>retention_7</th>\n",
              "    </tr>\n",
              "  </thead>\n",
              "  <tbody>\n",
              "    <tr>\n",
              "      <th>0</th>\n",
              "      <td>116</td>\n",
              "      <td>gate_30</td>\n",
              "      <td>3</td>\n",
              "      <td>False</td>\n",
              "      <td>False</td>\n",
              "    </tr>\n",
              "    <tr>\n",
              "      <th>1</th>\n",
              "      <td>337</td>\n",
              "      <td>gate_30</td>\n",
              "      <td>38</td>\n",
              "      <td>True</td>\n",
              "      <td>False</td>\n",
              "    </tr>\n",
              "    <tr>\n",
              "      <th>2</th>\n",
              "      <td>377</td>\n",
              "      <td>gate_40</td>\n",
              "      <td>165</td>\n",
              "      <td>True</td>\n",
              "      <td>False</td>\n",
              "    </tr>\n",
              "    <tr>\n",
              "      <th>3</th>\n",
              "      <td>483</td>\n",
              "      <td>gate_40</td>\n",
              "      <td>1</td>\n",
              "      <td>False</td>\n",
              "      <td>False</td>\n",
              "    </tr>\n",
              "    <tr>\n",
              "      <th>4</th>\n",
              "      <td>488</td>\n",
              "      <td>gate_40</td>\n",
              "      <td>179</td>\n",
              "      <td>True</td>\n",
              "      <td>True</td>\n",
              "    </tr>\n",
              "  </tbody>\n",
              "</table>\n",
              "</div>\n",
              "    <div class=\"colab-df-buttons\">\n",
              "\n",
              "  <div class=\"colab-df-container\">\n",
              "    <button class=\"colab-df-convert\" onclick=\"convertToInteractive('df-1a9de1dd-a311-4b34-8832-118c954b77e8')\"\n",
              "            title=\"Convert this dataframe to an interactive table.\"\n",
              "            style=\"display:none;\">\n",
              "\n",
              "  <svg xmlns=\"http://www.w3.org/2000/svg\" height=\"24px\" viewBox=\"0 -960 960 960\">\n",
              "    <path d=\"M120-120v-720h720v720H120Zm60-500h600v-160H180v160Zm220 220h160v-160H400v160Zm0 220h160v-160H400v160ZM180-400h160v-160H180v160Zm440 0h160v-160H620v160ZM180-180h160v-160H180v160Zm440 0h160v-160H620v160Z\"/>\n",
              "  </svg>\n",
              "    </button>\n",
              "\n",
              "  <style>\n",
              "    .colab-df-container {\n",
              "      display:flex;\n",
              "      gap: 12px;\n",
              "    }\n",
              "\n",
              "    .colab-df-convert {\n",
              "      background-color: #E8F0FE;\n",
              "      border: none;\n",
              "      border-radius: 50%;\n",
              "      cursor: pointer;\n",
              "      display: none;\n",
              "      fill: #1967D2;\n",
              "      height: 32px;\n",
              "      padding: 0 0 0 0;\n",
              "      width: 32px;\n",
              "    }\n",
              "\n",
              "    .colab-df-convert:hover {\n",
              "      background-color: #E2EBFA;\n",
              "      box-shadow: 0px 1px 2px rgba(60, 64, 67, 0.3), 0px 1px 3px 1px rgba(60, 64, 67, 0.15);\n",
              "      fill: #174EA6;\n",
              "    }\n",
              "\n",
              "    .colab-df-buttons div {\n",
              "      margin-bottom: 4px;\n",
              "    }\n",
              "\n",
              "    [theme=dark] .colab-df-convert {\n",
              "      background-color: #3B4455;\n",
              "      fill: #D2E3FC;\n",
              "    }\n",
              "\n",
              "    [theme=dark] .colab-df-convert:hover {\n",
              "      background-color: #434B5C;\n",
              "      box-shadow: 0px 1px 3px 1px rgba(0, 0, 0, 0.15);\n",
              "      filter: drop-shadow(0px 1px 2px rgba(0, 0, 0, 0.3));\n",
              "      fill: #FFFFFF;\n",
              "    }\n",
              "  </style>\n",
              "\n",
              "    <script>\n",
              "      const buttonEl =\n",
              "        document.querySelector('#df-1a9de1dd-a311-4b34-8832-118c954b77e8 button.colab-df-convert');\n",
              "      buttonEl.style.display =\n",
              "        google.colab.kernel.accessAllowed ? 'block' : 'none';\n",
              "\n",
              "      async function convertToInteractive(key) {\n",
              "        const element = document.querySelector('#df-1a9de1dd-a311-4b34-8832-118c954b77e8');\n",
              "        const dataTable =\n",
              "          await google.colab.kernel.invokeFunction('convertToInteractive',\n",
              "                                                    [key], {});\n",
              "        if (!dataTable) return;\n",
              "\n",
              "        const docLinkHtml = 'Like what you see? Visit the ' +\n",
              "          '<a target=\"_blank\" href=https://colab.research.google.com/notebooks/data_table.ipynb>data table notebook</a>'\n",
              "          + ' to learn more about interactive tables.';\n",
              "        element.innerHTML = '';\n",
              "        dataTable['output_type'] = 'display_data';\n",
              "        await google.colab.output.renderOutput(dataTable, element);\n",
              "        const docLink = document.createElement('div');\n",
              "        docLink.innerHTML = docLinkHtml;\n",
              "        element.appendChild(docLink);\n",
              "      }\n",
              "    </script>\n",
              "  </div>\n",
              "\n",
              "\n",
              "    <div id=\"df-234a8841-e6fb-491a-917c-86415e35e1cb\">\n",
              "      <button class=\"colab-df-quickchart\" onclick=\"quickchart('df-234a8841-e6fb-491a-917c-86415e35e1cb')\"\n",
              "                title=\"Suggest charts\"\n",
              "                style=\"display:none;\">\n",
              "\n",
              "<svg xmlns=\"http://www.w3.org/2000/svg\" height=\"24px\"viewBox=\"0 0 24 24\"\n",
              "     width=\"24px\">\n",
              "    <g>\n",
              "        <path d=\"M19 3H5c-1.1 0-2 .9-2 2v14c0 1.1.9 2 2 2h14c1.1 0 2-.9 2-2V5c0-1.1-.9-2-2-2zM9 17H7v-7h2v7zm4 0h-2V7h2v10zm4 0h-2v-4h2v4z\"/>\n",
              "    </g>\n",
              "</svg>\n",
              "      </button>\n",
              "\n",
              "<style>\n",
              "  .colab-df-quickchart {\n",
              "      --bg-color: #E8F0FE;\n",
              "      --fill-color: #1967D2;\n",
              "      --hover-bg-color: #E2EBFA;\n",
              "      --hover-fill-color: #174EA6;\n",
              "      --disabled-fill-color: #AAA;\n",
              "      --disabled-bg-color: #DDD;\n",
              "  }\n",
              "\n",
              "  [theme=dark] .colab-df-quickchart {\n",
              "      --bg-color: #3B4455;\n",
              "      --fill-color: #D2E3FC;\n",
              "      --hover-bg-color: #434B5C;\n",
              "      --hover-fill-color: #FFFFFF;\n",
              "      --disabled-bg-color: #3B4455;\n",
              "      --disabled-fill-color: #666;\n",
              "  }\n",
              "\n",
              "  .colab-df-quickchart {\n",
              "    background-color: var(--bg-color);\n",
              "    border: none;\n",
              "    border-radius: 50%;\n",
              "    cursor: pointer;\n",
              "    display: none;\n",
              "    fill: var(--fill-color);\n",
              "    height: 32px;\n",
              "    padding: 0;\n",
              "    width: 32px;\n",
              "  }\n",
              "\n",
              "  .colab-df-quickchart:hover {\n",
              "    background-color: var(--hover-bg-color);\n",
              "    box-shadow: 0 1px 2px rgba(60, 64, 67, 0.3), 0 1px 3px 1px rgba(60, 64, 67, 0.15);\n",
              "    fill: var(--button-hover-fill-color);\n",
              "  }\n",
              "\n",
              "  .colab-df-quickchart-complete:disabled,\n",
              "  .colab-df-quickchart-complete:disabled:hover {\n",
              "    background-color: var(--disabled-bg-color);\n",
              "    fill: var(--disabled-fill-color);\n",
              "    box-shadow: none;\n",
              "  }\n",
              "\n",
              "  .colab-df-spinner {\n",
              "    border: 2px solid var(--fill-color);\n",
              "    border-color: transparent;\n",
              "    border-bottom-color: var(--fill-color);\n",
              "    animation:\n",
              "      spin 1s steps(1) infinite;\n",
              "  }\n",
              "\n",
              "  @keyframes spin {\n",
              "    0% {\n",
              "      border-color: transparent;\n",
              "      border-bottom-color: var(--fill-color);\n",
              "      border-left-color: var(--fill-color);\n",
              "    }\n",
              "    20% {\n",
              "      border-color: transparent;\n",
              "      border-left-color: var(--fill-color);\n",
              "      border-top-color: var(--fill-color);\n",
              "    }\n",
              "    30% {\n",
              "      border-color: transparent;\n",
              "      border-left-color: var(--fill-color);\n",
              "      border-top-color: var(--fill-color);\n",
              "      border-right-color: var(--fill-color);\n",
              "    }\n",
              "    40% {\n",
              "      border-color: transparent;\n",
              "      border-right-color: var(--fill-color);\n",
              "      border-top-color: var(--fill-color);\n",
              "    }\n",
              "    60% {\n",
              "      border-color: transparent;\n",
              "      border-right-color: var(--fill-color);\n",
              "    }\n",
              "    80% {\n",
              "      border-color: transparent;\n",
              "      border-right-color: var(--fill-color);\n",
              "      border-bottom-color: var(--fill-color);\n",
              "    }\n",
              "    90% {\n",
              "      border-color: transparent;\n",
              "      border-bottom-color: var(--fill-color);\n",
              "    }\n",
              "  }\n",
              "</style>\n",
              "\n",
              "      <script>\n",
              "        async function quickchart(key) {\n",
              "          const quickchartButtonEl =\n",
              "            document.querySelector('#' + key + ' button');\n",
              "          quickchartButtonEl.disabled = true;  // To prevent multiple clicks.\n",
              "          quickchartButtonEl.classList.add('colab-df-spinner');\n",
              "          try {\n",
              "            const charts = await google.colab.kernel.invokeFunction(\n",
              "                'suggestCharts', [key], {});\n",
              "          } catch (error) {\n",
              "            console.error('Error during call to suggestCharts:', error);\n",
              "          }\n",
              "          quickchartButtonEl.classList.remove('colab-df-spinner');\n",
              "          quickchartButtonEl.classList.add('colab-df-quickchart-complete');\n",
              "        }\n",
              "        (() => {\n",
              "          let quickchartButtonEl =\n",
              "            document.querySelector('#df-234a8841-e6fb-491a-917c-86415e35e1cb button');\n",
              "          quickchartButtonEl.style.display =\n",
              "            google.colab.kernel.accessAllowed ? 'block' : 'none';\n",
              "        })();\n",
              "      </script>\n",
              "    </div>\n",
              "\n",
              "    </div>\n",
              "  </div>\n"
            ],
            "application/vnd.google.colaboratory.intrinsic+json": {
              "type": "dataframe",
              "variable_name": "df",
              "summary": "{\n  \"name\": \"df\",\n  \"rows\": 90189,\n  \"fields\": [\n    {\n      \"column\": \"userid\",\n      \"properties\": {\n        \"dtype\": \"number\",\n        \"std\": 2883285,\n        \"min\": 116,\n        \"max\": 9999861,\n        \"num_unique_values\": 90189,\n        \"samples\": [\n          3266525,\n          3937667,\n          2861986\n        ],\n        \"semantic_type\": \"\",\n        \"description\": \"\"\n      }\n    },\n    {\n      \"column\": \"version\",\n      \"properties\": {\n        \"dtype\": \"category\",\n        \"num_unique_values\": 2,\n        \"samples\": [\n          \"gate_40\",\n          \"gate_30\"\n        ],\n        \"semantic_type\": \"\",\n        \"description\": \"\"\n      }\n    },\n    {\n      \"column\": \"sum_gamerounds\",\n      \"properties\": {\n        \"dtype\": \"number\",\n        \"std\": 195,\n        \"min\": 0,\n        \"max\": 49854,\n        \"num_unique_values\": 942,\n        \"samples\": [\n          346,\n          523\n        ],\n        \"semantic_type\": \"\",\n        \"description\": \"\"\n      }\n    },\n    {\n      \"column\": \"retention_1\",\n      \"properties\": {\n        \"dtype\": \"boolean\",\n        \"num_unique_values\": 2,\n        \"samples\": [\n          true,\n          false\n        ],\n        \"semantic_type\": \"\",\n        \"description\": \"\"\n      }\n    },\n    {\n      \"column\": \"retention_7\",\n      \"properties\": {\n        \"dtype\": \"boolean\",\n        \"num_unique_values\": 2,\n        \"samples\": [\n          true,\n          false\n        ],\n        \"semantic_type\": \"\",\n        \"description\": \"\"\n      }\n    }\n  ]\n}"
            }
          },
          "metadata": {},
          "execution_count": 3
        }
      ]
    },
    {
      "cell_type": "markdown",
      "source": [
        "## 1. Data Cleaning"
      ],
      "metadata": {
        "id": "eqr3pEw02ZDp"
      }
    },
    {
      "cell_type": "markdown",
      "source": [
        "Before this stage, it would also be smart to verify randomization implementation. Ideally, the data compiled to comprise the treatment and control groups would have been sourced randomly to prevent confounders.\n",
        "\n",
        "Since we only have the resulting data, the best we can do is a sanity check of the two groups' descriptive statistics."
      ],
      "metadata": {
        "id": "EiA8dM7fKgO8"
      }
    },
    {
      "cell_type": "code",
      "source": [
        "# Check for missing user IDs\n",
        "print(\"Missing user IDs:\", df['userid'].isnull().sum())\n",
        "\n",
        "# Check for duplicate user IDs\n",
        "print(\"Duplicate user IDs:\", df['userid'].duplicated().sum())\n",
        "\n",
        "# Check the number of users in each version\n",
        "print(\"\\nNumber of users in each version:\")\n",
        "print(df['version'].value_counts())\n",
        "\n",
        "# Check the proportion of users in each version\n",
        "print(\"\\nProportion of users in each version:\")\n",
        "print(df['version'].value_counts(normalize=True))"
      ],
      "metadata": {
        "id": "kLbmFD2tss8f",
        "colab": {
          "base_uri": "https://localhost:8080/"
        },
        "outputId": "3ddecc69-5b7c-4273-f445-c57f6ce4d7c0"
      },
      "execution_count": 4,
      "outputs": [
        {
          "output_type": "stream",
          "name": "stdout",
          "text": [
            "Missing user IDs: 0\n",
            "Duplicate user IDs: 0\n",
            "\n",
            "Number of users in each version:\n",
            "version\n",
            "gate_40    45489\n",
            "gate_30    44700\n",
            "Name: count, dtype: int64\n",
            "\n",
            "Proportion of users in each version:\n",
            "version\n",
            "gate_40   0.5044\n",
            "gate_30   0.4956\n",
            "Name: proportion, dtype: float64\n"
          ]
        }
      ]
    },
    {
      "cell_type": "code",
      "metadata": {
        "colab": {
          "base_uri": "https://localhost:8080/"
        },
        "id": "5e3bdc98",
        "outputId": "a75f51fe-a2b7-46dd-9298-689bd4313865"
      },
      "source": [
        "print(\"Descriptive statistics for sum_gamerounds by version:\")\n",
        "print(df.groupby('version')['sum_gamerounds'].describe())"
      ],
      "execution_count": 5,
      "outputs": [
        {
          "output_type": "stream",
          "name": "stdout",
          "text": [
            "Descriptive statistics for sum_gamerounds by version:\n",
            "             count    mean      std    min    25%     50%     75%        max\n",
            "version                                                                     \n",
            "gate_30 44700.0000 52.4563 256.7164 0.0000 5.0000 17.0000 50.0000 49854.0000\n",
            "gate_40 45489.0000 51.2988 103.2944 0.0000 5.0000 16.0000 52.0000  2640.0000\n"
          ]
        }
      ]
    },
    {
      "cell_type": "code",
      "metadata": {
        "colab": {
          "base_uri": "https://localhost:8080/",
          "height": 420
        },
        "id": "f5731783",
        "outputId": "635263c8-6cb0-4e3a-b703-a2946a1786fe"
      },
      "source": [
        "plt.figure(figsize=(10, 6))\n",
        "sns.boxplot(x='version', y='sum_gamerounds', data=df)\n",
        "plt.title('Distribution of Sum of Gamerounds by Version')\n",
        "plt.ylabel('Sum of Gamerounds')\n",
        "plt.xlabel('Version')\n",
        "plt.show()"
      ],
      "execution_count": 6,
      "outputs": [
        {
          "output_type": "display_data",
          "data": {
            "text/plain": [
              "<Figure size 1000x600 with 1 Axes>"
            ],
            "image/png": "[encoded data removed]"
          },
          "metadata": {}
        }
      ]
    },
    {
      "cell_type": "markdown",
      "source": [
        "Clearly there is at least one significant outlier in the gate_30 group. We'll explore how many there are, and determine how to mitigate it before moving onto hypothesis testing."
      ],
      "metadata": {
        "id": "eqKfyticxlsK"
      }
    },
    {
      "cell_type": "code",
      "source": [
        "df['sum_gamerounds'].sort_values(ascending=False).head(10)"
      ],
      "metadata": {
        "colab": {
          "base_uri": "https://localhost:8080/",
          "height": 398
        },
        "id": "B2X4saENypAo",
        "outputId": "560237eb-5993-4fdc-a484-65d0420a80c4"
      },
      "execution_count": 7,
      "outputs": [
        {
          "output_type": "execute_result",
          "data": {
            "text/plain": [
              "57702    49854\n",
              "7912      2961\n",
              "29417     2640\n",
              "43671     2438\n",
              "48188     2294\n",
              "46344     2251\n",
              "87007     2156\n",
              "36933     2124\n",
              "88328     2063\n",
              "6536      2015\n",
              "Name: sum_gamerounds, dtype: int64"
            ],
            "text/html": [
              "<div>\n",
              "<style scoped>\n",
              "    .dataframe tbody tr th:only-of-type {\n",
              "        vertical-align: middle;\n",
              "    }\n",
              "\n",
              "    .dataframe tbody tr th {\n",
              "        vertical-align: top;\n",
              "    }\n",
              "\n",
              "    .dataframe thead th {\n",
              "        text-align: right;\n",
              "    }\n",
              "</style>\n",
              "<table border=\"1\" class=\"dataframe\">\n",
              "  <thead>\n",
              "    <tr style=\"text-align: right;\">\n",
              "      <th></th>\n",
              "      <th>sum_gamerounds</th>\n",
              "    </tr>\n",
              "  </thead>\n",
              "  <tbody>\n",
              "    <tr>\n",
              "      <th>57702</th>\n",
              "      <td>49854</td>\n",
              "    </tr>\n",
              "    <tr>\n",
              "      <th>7912</th>\n",
              "      <td>2961</td>\n",
              "    </tr>\n",
              "    <tr>\n",
              "      <th>29417</th>\n",
              "      <td>2640</td>\n",
              "    </tr>\n",
              "    <tr>\n",
              "      <th>43671</th>\n",
              "      <td>2438</td>\n",
              "    </tr>\n",
              "    <tr>\n",
              "      <th>48188</th>\n",
              "      <td>2294</td>\n",
              "    </tr>\n",
              "    <tr>\n",
              "      <th>46344</th>\n",
              "      <td>2251</td>\n",
              "    </tr>\n",
              "    <tr>\n",
              "      <th>87007</th>\n",
              "      <td>2156</td>\n",
              "    </tr>\n",
              "    <tr>\n",
              "      <th>36933</th>\n",
              "      <td>2124</td>\n",
              "    </tr>\n",
              "    <tr>\n",
              "      <th>88328</th>\n",
              "      <td>2063</td>\n",
              "    </tr>\n",
              "    <tr>\n",
              "      <th>6536</th>\n",
              "      <td>2015</td>\n",
              "    </tr>\n",
              "  </tbody>\n",
              "</table>\n",
              "</div><br><label><b>dtype:</b> int64</label>"
            ]
          },
          "metadata": {},
          "execution_count": 7
        }
      ]
    },
    {
      "cell_type": "markdown",
      "source": [
        "There is only one significant outlier at 49854. Let's refer to the dataset context to determine how to deal with it. 'sum_gamerounds' measures \"the number of game rounds played by the player during the first 14 days after install\" (as per Kaggle description).\n",
        "\n",
        "Even if each gameround only lasted a minute, it would've taken this hypothetical user 830 hours, or 34 nonstop days to achieve this feat. In other words, this figure is impossible, so we're clear to consider it an input mistake and remove it from the dataset completely."
      ],
      "metadata": {
        "id": "svFioEK8z2AC"
      }
    },
    {
      "cell_type": "code",
      "source": [
        "# Remove outlier\n",
        "df = df[df['sum_gamerounds'] < 49854]"
      ],
      "metadata": {
        "id": "i31ytdmEz1td"
      },
      "execution_count": 8,
      "outputs": []
    },
    {
      "cell_type": "code",
      "metadata": {
        "colab": {
          "base_uri": "https://localhost:8080/",
          "height": 425
        },
        "id": "9fbefb8c",
        "outputId": "87809024-85e8-4cbd-8078-fdbdaa9becd2"
      },
      "source": [
        "# View updated distribution\n",
        "plt.figure(figsize=(10, 6))\n",
        "sns.boxplot(x='version', y='sum_gamerounds', data=df)\n",
        "plt.title('Distribution of Sum of Gamerounds by Version (Outlier Removed)')\n",
        "plt.ylabel('Sum of Gamerounds')\n",
        "plt.xlabel('Version')\n",
        "plt.show()"
      ],
      "execution_count": 9,
      "outputs": [
        {
          "output_type": "display_data",
          "data": {
            "text/plain": [
              "<Figure size 1000x600 with 1 Axes>"
            ],
            "image/png": "[encoded data removed]"
          },
          "metadata": {}
        }
      ]
    },
    {
      "cell_type": "markdown",
      "metadata": {
        "id": "e5d9f1f9"
      },
      "source": [
        "# 2. Check Assumptions for Hypothesis Testing"
      ]
    },
    {
      "cell_type": "markdown",
      "source": [
        "### Check Assumptions for sum_gamerounds (Quantitative)"
      ],
      "metadata": {
        "id": "yabkZ5ha4GDn"
      }
    },
    {
      "cell_type": "markdown",
      "source": [
        "To determine what test to use for hypothesis testing on sum_gamerounds, which is a continuous variable, we need to check for homogeneity of variances, as well as Normality."
      ],
      "metadata": {
        "id": "yEhjUwXMpKfS"
      }
    },
    {
      "cell_type": "code",
      "metadata": {
        "colab": {
          "base_uri": "https://localhost:8080/"
        },
        "id": "e320ce78",
        "outputId": "4bb65bab-3c6f-4a46-9d9f-8e0131dfe173"
      },
      "source": [
        "# Check for homogeneity of variances using Levene's test\n",
        "stat, p = stats.levene(df[df['version'] == 'gate_30']['sum_gamerounds'],\n",
        "                       df[df['version'] == 'gate_40']['sum_gamerounds'])\n",
        "\n",
        "print(f\"Levene's test for homogeneity of variances:\")\n",
        "print(f\"Statistic: {stat:.4f}, p-value: {p:.4f}\")\n",
        "\n",
        "if p < 0.05:\n",
        "    print(\"Assumption of homogeneity of variances is violated.\")\n",
        "else:\n",
        "    print(\"Assumption of homogeneity of variances is met.\")"
      ],
      "execution_count": 10,
      "outputs": [
        {
          "output_type": "stream",
          "name": "stdout",
          "text": [
            "Levene's test for homogeneity of variances:\n",
            "Statistic: 0.0751, p-value: 0.7840\n",
            "Assumption of homogeneity of variances is met.\n"
          ]
        }
      ]
    },
    {
      "cell_type": "code",
      "metadata": {
        "colab": {
          "base_uri": "https://localhost:8080/",
          "height": 477
        },
        "id": "d6eddf64",
        "outputId": "4bde2c61-89f4-4c68-ac5b-c34595901da6"
      },
      "source": [
        "# Check for normality using Shapiro-Wilk test\n",
        "# Due to large sample size, Shapiro-Wilk may reject normality even for small deviations.\n",
        "# Visual inspection (histograms, QQ plots) might be more informative.\n",
        "\n",
        "shapiro_gate_30_stat, shapiro_gate_30_p = shapiro(df[df['version'] == 'gate_30']['sum_gamerounds'])\n",
        "shapiro_gate_40_stat, shapiro_gate_40_p = shapiro(df[df['version'] == 'gate_40']['sum_gamerounds'])\n",
        "\n",
        "print(f\"\\nShapiro-Wilk test for normality (gate_30):\")\n",
        "print(f\"Statistic: {shapiro_gate_30_stat:.4f}, p-value: {shapiro_gate_30_p:.4f}\")\n",
        "\n",
        "print(f\"\\nShapiro-Wilk test for normality (gate_40):\")\n",
        "print(f\"Statistic: {shapiro_gate_40_stat:.4f}, p-value: {shapiro_gate_40_p:.4f}\")\n",
        "\n",
        "if shapiro_gate_30_p < 0.05 or shapiro_gate_40_p < 0.05:\n",
        "    print(\"\\nAssumption of normality is likely violated in at least one group.\")\n",
        "else:\n",
        "    print(\"\\nAssumption of normality is met in both groups.\")\n",
        "\n",
        "# Visual check for normality (histograms)\n",
        "plt.figure(figsize=(12, 6))\n",
        "plt.subplot(1, 2, 1)\n",
        "sns.histplot(df[df['version'] == 'gate_30']['sum_gamerounds'], kde=True, bins=50)\n",
        "plt.title('Distribution of Sum of Gamerounds (gate_30)')\n",
        "plt.xlabel('Sum of Gamerounds')\n",
        "plt.ylabel('Frequency')\n",
        "\n",
        "plt.subplot(1, 2, 2)\n",
        "sns.histplot(df[df['version'] == 'gate_40']['sum_gamerounds'], kde=True, bins=50)\n",
        "plt.title('Distribution of Sum of Gamerounds (gate_40)')\n",
        "plt.xlabel('Sum of Gamerounds')\n",
        "plt.ylabel('Frequency')\n",
        "\n",
        "plt.tight_layout()\n",
        "plt.show()"
      ],
      "execution_count": 11,
      "outputs": [
        {
          "output_type": "stream",
          "name": "stdout",
          "text": [
            "\n",
            "Shapiro-Wilk test for normality (gate_30):\n",
            "Statistic: 0.4886, p-value: 0.0000\n",
            "\n",
            "Shapiro-Wilk test for normality (gate_40):\n",
            "Statistic: 0.4826, p-value: 0.0000\n",
            "\n",
            "Assumption of normality is likely violated in at least one group.\n"
          ]
        },
        {
          "output_type": "display_data",
          "data": {
            "text/plain": [
              "<Figure size 1200x600 with 2 Axes>"
            ],
            "image/png": "[encoded data removed]"
          },
          "metadata": {}
        }
      ]
    },
    {
      "cell_type": "markdown",
      "source": [
        "Levene's Test indicates that homogeneity is met, but as exepcted our dataset fails the Shapiro-Wilk test for normality.\n",
        "\n",
        "This was obviously expected since the response variable here is play-time i.e. count data, which is usually skewed.\n",
        "\n",
        "The absence of normality implies we need to use a non-parametric test. Since our two groups are independent, we want the equivalent of an unpaired t-test.\n",
        "\n",
        "**The Mann-Whitney U Test would be suitable for this.**"
      ],
      "metadata": {
        "id": "_PvKnfWZ3Irf"
      }
    },
    {
      "cell_type": "markdown",
      "source": [
        "Now let's check the same assumptions for the other measures, retention_1 and retention_7"
      ],
      "metadata": {
        "id": "x4jWKCKOka_V"
      }
    },
    {
      "cell_type": "markdown",
      "source": [
        "### Check Assumptions for retention_1 and retention_7 (Binary)"
      ],
      "metadata": {
        "id": "-fsfKENT4P13"
      }
    },
    {
      "cell_type": "markdown",
      "source": [
        "Unlike sum_gamerounds, the retention metrics are binary. This implies we should use a Chi-Square test to compare the group means. The two assumptions we need to check are:\n",
        "* independence of observations (presupposed)\n",
        "* expected values (assuming null hypothesis is true) in contingency table should be greater than 5"
      ],
      "metadata": {
        "id": "bS45KSkAkoxA"
      }
    },
    {
      "cell_type": "code",
      "source": [
        "# Check assumption of expected frequencies for Chi-Squared test (retention_1)\n",
        "print(\"\\nExpected frequencies for Chi-Squared test (retention_1):\")\n",
        "contingency_table_ret1 = pd.crosstab(df['version'], df['retention_1'])\n",
        "chi2_ret1, p_ret1_chi2, dof_ret1, expected_ret1 = stats.chi2_contingency(contingency_table_ret1)\n",
        "print(pd.DataFrame(expected_ret1, index=['gate_30', 'gate_40'], columns=[False, True]))\n",
        "\n",
        "# Check assumption of expected frequencies for Chi-Squared test (retention_7)\n",
        "print(\"\\nExpected frequencies for Chi-Squared test (retention_7):\")\n",
        "contingency_table_ret7 = pd.crosstab(df['version'], df['retention_7'])\n",
        "chi2_ret7, p_ret7_chi2, dof_ret7, expected_ret7 = stats.chi2_contingency(contingency_table_ret7)\n",
        "print(pd.DataFrame(expected_ret7, index=['gate_30', 'gate_40'], columns=[False, True]))"
      ],
      "metadata": {
        "colab": {
          "base_uri": "https://localhost:8080/"
        },
        "id": "s-yg9l4vkyCI",
        "outputId": "f0062e80-8a4c-42f5-a50b-3045911f7de2"
      },
      "execution_count": 12,
      "outputs": [
        {
          "output_type": "stream",
          "name": "stdout",
          "text": [
            "\n",
            "Expected frequencies for Chi-Squared test (retention_1):\n",
            "             False      True \n",
            "gate_30 24798.3597 19900.6403\n",
            "gate_40 25236.6403 20252.3597\n",
            "\n",
            "Expected frequencies for Chi-Squared test (retention_7):\n",
            "             False     True \n",
            "gate_30 36382.4920 8316.5080\n",
            "gate_40 37025.5080 8463.4920\n"
          ]
        }
      ]
    },
    {
      "cell_type": "markdown",
      "source": [
        "Intuitively, these numbers represent the frequencies in both outcomes of retention, assuming H0 is true (i.e. there is no relationship between the group placement and retention).\n",
        "\n",
        "Had they been too low, it would've implied that a Chi-Square distribution was not suitable for estimating in the first place.\n",
        "\n",
        "The expected counts for both retention variables in both categories are in the thousands (well over 5). With that, we have satisfied the assumptions for using Chi-Square tests."
      ],
      "metadata": {
        "id": "WtkXNOSWRTWc"
      }
    },
    {
      "cell_type": "markdown",
      "source": [
        "# 3. Hypothesis Testing"
      ],
      "metadata": {
        "id": "VgXy7q-D4NrL"
      }
    },
    {
      "cell_type": "markdown",
      "source": [
        "## Number of Game Rounds as a Metric"
      ],
      "metadata": {
        "id": "z8MeFckFjXC-"
      }
    },
    {
      "cell_type": "code",
      "metadata": {
        "colab": {
          "base_uri": "https://localhost:8080/"
        },
        "id": "6fa6da2b",
        "outputId": "0bbfd137-05b4-42bf-b29b-514edb441b2e"
      },
      "source": [
        "# Perform Mann-Whitney U test\n",
        "stat, p = stats.mannwhitneyu(df[df['version'] == 'gate_30']['sum_gamerounds'],\n",
        "                           df[df['version'] == 'gate_40']['sum_gamerounds'],\n",
        "                           alternative='two-sided') # Using two-sided test as we don't have a specific direction hypothesis\n",
        "\n",
        "print(f\"Mann-Whitney U Test results:\")\n",
        "print(f\"Statistic: {stat:.4f}, p-value: {p:.4f}\")\n",
        "\n",
        "# Interpret the results\n",
        "alpha = 0.05\n",
        "if p < alpha:\n",
        "    print(\"\\nReject the null hypothesis: There is a statistically significant difference in the sum of gamerounds between the two versions.\")\n",
        "else:\n",
        "    print(\"\\nFail to reject the null hypothesis: There is no statistically significant difference in the sum of gamerounds between the two versions.\")"
      ],
      "execution_count": 13,
      "outputs": [
        {
          "output_type": "stream",
          "name": "stdout",
          "text": [
            "Mann-Whitney U Test results:\n",
            "Statistic: 1024285761.5000, p-value: 0.0509\n",
            "\n",
            "Fail to reject the null hypothesis: There is no statistically significant difference in the sum of gamerounds between the two versions.\n"
          ]
        }
      ]
    },
    {
      "cell_type": "markdown",
      "source": [
        "Here we must make an important distinction. The above two-tailed Mann-Whiteney U test led to a failure to reject the null hypothesis.\n",
        "\n",
        "However, a reconsideration of the A/B Test goals must be made. What was the business question this test sought to answer? If we wanted to test whether player activity specifically *drops* with a higher level cap..."
      ],
      "metadata": {
        "id": "c2VODSYU5lZi"
      }
    },
    {
      "cell_type": "code",
      "metadata": {
        "colab": {
          "base_uri": "https://localhost:8080/"
        },
        "id": "2ea1890e",
        "outputId": "fb29d50e-bc2a-43f9-a3fc-329cd7aea927"
      },
      "source": [
        "# Perform Mann-Whitney U test (one-tailed)\n",
        "stat_one_tailed, p_one_tailed = stats.mannwhitneyu(df[df['version'] == 'gate_30']['sum_gamerounds'],\n",
        "                           df[df['version'] == 'gate_40']['sum_gamerounds'],\n",
        "                           alternative='greater') # Testing if gate_30 is greater than gate_40\n",
        "\n",
        "print(f\"Mann-Whitney U Test results (one-tailed):\")\n",
        "print(f\"Statistic: {stat_one_tailed:.4f}, p-value: {p_one_tailed:.4f}\")\n",
        "\n",
        "# Interpret the results\n",
        "alpha = 0.05\n",
        "if p_one_tailed < alpha:\n",
        "    print(\"\\nReject the null hypothesis: There is statistically significant evidence that the sum of gamerounds is lower in the gate_40 version compared to gate_30.\")\n",
        "else:\n",
        "    print(\"\\nFail to reject the null hypothesis: There is no statistically significant evidence that the sum of gamerounds is lower in the gate_40 version compared to gate_30.\")"
      ],
      "execution_count": 14,
      "outputs": [
        {
          "output_type": "stream",
          "name": "stdout",
          "text": [
            "Mann-Whitney U Test results (one-tailed):\n",
            "Statistic: 1024285761.5000, p-value: 0.0254\n",
            "\n",
            "Reject the null hypothesis: There is statistically significant evidence that the sum of gamerounds is lower in the gate_40 version compared to gate_30.\n"
          ]
        }
      ]
    },
    {
      "cell_type": "markdown",
      "source": [
        "7/25/25 note to self: next up:\n",
        "\n",
        "\n",
        "*   decide on whether two or one tailed\n",
        "*   then explore other response variables like retention\n",
        "* then conclude the a/b test results based on those 3 metrics\n",
        "* 7/26/25: also we check for null user_id's but should we also be checking for null's in other columns (e.g. an empty sum_gamerounds should be dropped)\n",
        "\n",
        "\n"
      ],
      "metadata": {
        "id": "GFxXNN5FwRSB"
      }
    },
    {
      "cell_type": "markdown",
      "source": [
        "Here we see that testing whether player activity specifically *drops* DOES yield a statistically significant result. In other words, we have evidence to believe that raising the level gate will result in a drop in player retention."
      ],
      "metadata": {
        "id": "wdfzD_RjhQwu"
      }
    },
    {
      "cell_type": "markdown",
      "source": [
        "This disparity highlights the importance of establishing a clear experimental question before running statistical tests."
      ],
      "metadata": {
        "id": "V9w9di1fi6Mf"
      }
    },
    {
      "cell_type": "markdown",
      "source": [
        "## Retention as a Metric"
      ],
      "metadata": {
        "id": "Fkql88wBjiDV"
      }
    },
    {
      "cell_type": "markdown",
      "source": [
        "Next we can explore whether there is a similar drop in retention with the introduction of a raised level cap."
      ],
      "metadata": {
        "id": "ES9nkqwwj3cY"
      }
    },
    {
      "cell_type": "code",
      "metadata": {
        "colab": {
          "base_uri": "https://localhost:8080/"
        },
        "id": "1a491611",
        "outputId": "599fb03f-6c45-4c1f-abd5-4e837298552b"
      },
      "source": [
        "# Perform Chi-Squared test for retention_1\n",
        "contingency_table_ret1 = pd.crosstab(df['version'], df['retention_1'])\n",
        "chi2_stat_ret1, p_value_ret1, dof_ret1, expected_ret1 = stats.chi2_contingency(contingency_table_ret1)\n",
        "\n",
        "print(f\"Chi-Squared Test results for retention_1:\")\n",
        "print(f\"Chi-Squared Statistic: {chi2_stat_ret1:.4f}\")\n",
        "print(f\"P-value: {p_value_ret1:.4f}\")\n",
        "print(f\"Degrees of Freedom: {dof_ret1}\")\n",
        "\n",
        "# Interpret the results for retention_1\n",
        "alpha = 0.05\n",
        "if p_value_ret1 < alpha:\n",
        "    print(\"\\nReject the null hypothesis: There is a statistically significant difference in 1-day retention between the two versions.\")\n",
        "else:\n",
        "    print(\"\\nFail to reject the null hypothesis: There is no statistically significant difference in 1-day retention between the two versions.\")"
      ],
      "execution_count": 15,
      "outputs": [
        {
          "output_type": "stream",
          "name": "stdout",
          "text": [
            "Chi-Squared Test results for retention_1:\n",
            "Chi-Squared Statistic: 3.1698\n",
            "P-value: 0.0750\n",
            "Degrees of Freedom: 1\n",
            "\n",
            "Fail to reject the null hypothesis: There is no statistically significant difference in 1-day retention between the two versions.\n"
          ]
        }
      ]
    },
    {
      "cell_type": "code",
      "metadata": {
        "colab": {
          "base_uri": "https://localhost:8080/"
        },
        "id": "da113317",
        "outputId": "b37ac6f3-535c-4685-e0dd-0dd4fedc2628"
      },
      "source": [
        "# Perform Chi-Squared test for retention_7\n",
        "contingency_table_ret7 = pd.crosstab(df['version'], df['retention_7'])\n",
        "chi2_stat_ret7, p_value_ret7, dof_ret7, expected_ret7 = stats.chi2_contingency(contingency_table_ret7)\n",
        "\n",
        "print(f\"Chi-Squared Test results for retention_7:\")\n",
        "print(f\"Chi-Squared Statistic: {chi2_stat_ret7:.4f}\")\n",
        "print(f\"P-value: {p_value_ret7:.4f}\")\n",
        "print(f\"Degrees of Freedom: {dof_ret7}\")\n",
        "\n",
        "# Interpret the results for retention_7\n",
        "alpha = 0.05\n",
        "if p_value_ret7 < alpha:\n",
        "    print(\"\\nReject the null hypothesis: There is a statistically significant difference in 7-day retention between the two versions.\")\n",
        "else:\n",
        "    print(\"\\nFail to reject the null hypothesis: There is no statistically significant difference in 7-day retention between the two versions.\")"
      ],
      "execution_count": 16,
      "outputs": [
        {
          "output_type": "stream",
          "name": "stdout",
          "text": [
            "Chi-Squared Test results for retention_7:\n",
            "Chi-Squared Statistic: 9.9153\n",
            "P-value: 0.0016\n",
            "Degrees of Freedom: 1\n",
            "\n",
            "Reject the null hypothesis: There is a statistically significant difference in 7-day retention between the two versions.\n"
          ]
        }
      ]
    },
    {
      "cell_type": "markdown",
      "source": [
        "Interestingly, comparing the means between the two experimental groups yields two different answers between the two duration ranges.\n",
        "\n",
        "Raising the level cap doesn't have a significant impact on player retention past the 1 day mark.\n",
        "\n",
        "However, raising the cap *does* have a significant impact on player retention past the 1 week mark, with quite a low p-value indicating that the difference is quite pronounced."
      ],
      "metadata": {
        "id": "Fd3FbBWDVCs7"
      }
    },
    {
      "cell_type": "markdown",
      "source": [
        "## Confidence Intervals\n",
        "Lastly, let's calculate the confidence intervals for the difference in means for all 3 variables, starting with sum_gamerounds.\n",
        "\n",
        "Note here that since Normality and therefore parametric assumptions are violated, we must use bootstrap resampling. Put simply, we can estimate the sampling distribution by drawing samples with replacement from the given data."
      ],
      "metadata": {
        "id": "oK8kMsObYfQB"
      }
    },
    {
      "cell_type": "code",
      "metadata": {
        "colab": {
          "base_uri": "https://localhost:8080/"
        },
        "id": "a6dd38e1",
        "outputId": "c3e37deb-c287-4913-d898-814b67094de5"
      },
      "source": [
        "# Calculate confidence interval for the difference in means for sum_gamerounds\n",
        "# Using bootstrap method since normality assumption was violated\n",
        "\n",
        "n_bootstraps = 1000\n",
        "bootstrapped_diffs = []\n",
        "\n",
        "gate_30_rounds = df[df['version'] == 'gate_30']['sum_gamerounds']\n",
        "gate_40_rounds = df[df['version'] == 'gate_40']['sum_gamerounds']\n",
        "\n",
        "for i in range(n_bootstraps):\n",
        "    bootstrap_gate_30 = gate_30_rounds.sample(frac=1, replace=True)\n",
        "    bootstrap_gate_40 = gate_40_rounds.sample(frac=1, replace=True)\n",
        "    bootstrapped_diffs.append(bootstrap_gate_30.mean() - bootstrap_gate_40.mean())\n",
        "\n",
        "# Calculate the 95% confidence interval\n",
        "confidence_interval_sum_gamerounds = np.percentile(bootstrapped_diffs, [2.5, 97.5])\n",
        "\n",
        "print(f\"95% Confidence Interval for the difference in mean sum_gamerounds (gate_30 - gate_40):\")\n",
        "print(f\"{confidence_interval_sum_gamerounds}\")"
      ],
      "execution_count": 19,
      "outputs": [
        {
          "output_type": "stream",
          "name": "stdout",
          "text": [
            "95% Confidence Interval for the difference in mean sum_gamerounds (gate_30 - gate_40):\n",
            "[-1.27970914  1.40420041]\n"
          ]
        }
      ]
    },
    {
      "cell_type": "markdown",
      "source": [
        "Note here that the CI includes 0, which implies there is no significant difference between means. This is consistent with our two-tailed Mann-Whitney U Test.\n",
        "\n",
        "While we are putting more weight on the one-tailed test as it is more relevant to our business question, this confidence interval doesn't necessarily contradict its result. It just highlights that the difference isn't too strong based on a two-sided view."
      ],
      "metadata": {
        "id": "_AZFPth2ZM_S"
      }
    },
    {
      "cell_type": "code",
      "metadata": {
        "colab": {
          "base_uri": "https://localhost:8080/"
        },
        "id": "b13813a3",
        "outputId": "22332982-e3c5-4f62-b7df-c8f2bb186202"
      },
      "source": [
        "# Calculate confidence interval for the difference in proportions for retention_1\n",
        "\n",
        "count_ret1_gate_30 = df[df['version'] == 'gate_30']['retention_1'].sum()\n",
        "nobs_ret1_gate_30 = len(df[df['version'] == 'gate_30'])\n",
        "count_ret1_gate_40 = df[df['version'] == 'gate_40']['retention_1'].sum()\n",
        "nobs_ret1_gate_40 = len(df[df['version'] == 'gate_40'])\n",
        "\n",
        "# Use statsmodels for confidence interval for difference in proportions\n",
        "from statsmodels.stats.proportion import confint_proportions_2indep\n",
        "\n",
        "ci_ret1_diff = confint_proportions_2indep(count_ret1_gate_30, nobs_ret1_gate_30,\n",
        "                                        count_ret1_gate_40, nobs_ret1_gate_40,\n",
        "                                        method='agresti-coull') # Agresti-Coull is a good general method\n",
        "\n",
        "print(f\"95% Confidence Interval for the difference in retention_1 proportions (gate_30 - gate_40):\")\n",
        "print(f\"{ci_ret1_diff}\")"
      ],
      "execution_count": 17,
      "outputs": [
        {
          "output_type": "stream",
          "name": "stdout",
          "text": [
            "95% Confidence Interval for the difference in retention_1 proportions (gate_30 - gate_40):\n",
            "(np.float64(-0.000572196030935973), np.float64(0.012402149583999017))\n"
          ]
        }
      ]
    },
    {
      "cell_type": "markdown",
      "source": [
        "The CI for 1-day Retention includes 0, which aligns with our testing results implying that 1-day Retention isn't affected by changing the level cap."
      ],
      "metadata": {
        "id": "hyuOgtJiZo-3"
      }
    },
    {
      "cell_type": "code",
      "metadata": {
        "colab": {
          "base_uri": "https://localhost:8080/"
        },
        "id": "96ef2c79",
        "outputId": "61384c38-a3eb-4daf-af5c-de1081106c12"
      },
      "source": [
        "# Calculate confidence interval for the difference in proportions for retention_7\n",
        "\n",
        "count_ret7_gate_30 = df[df['version'] == 'gate_30']['retention_7'].sum()\n",
        "nobs_ret7_gate_30 = len(df[df['version'] == 'gate_30'])\n",
        "count_ret7_gate_40 = df[df['version'] == 'gate_40']['retention_7'].sum()\n",
        "nobs_ret7_gate_40 = len(df[df['version'] == 'gate_40'])\n",
        "\n",
        "# Use statsmodels for confidence interval for difference in proportions\n",
        "from statsmodels.stats.proportion import confint_proportions_2indep\n",
        "\n",
        "ci_ret7_diff = confint_proportions_2indep(count_ret7_gate_30, nobs_ret7_gate_30,\n",
        "                                        count_ret7_gate_40, nobs_ret7_gate_40,\n",
        "                                        method='agresti-coull') # Agresti-Coull is a good general method\n",
        "\n",
        "print(f\"95% Confidence Interval for the difference in retention_7 proportions (gate_30 - gate_40):\")\n",
        "print(f\"{ci_ret7_diff}\")"
      ],
      "execution_count": 20,
      "outputs": [
        {
          "output_type": "stream",
          "name": "stdout",
          "text": [
            "95% Confidence Interval for the difference in retention_7 proportions (gate_30 - gate_40):\n",
            "(np.float64(0.003102840402227294), np.float64(0.01326328472044098))\n"
          ]
        }
      ]
    },
    {
      "cell_type": "markdown",
      "source": [
        "Lastly, 7-day Retention variable has a CI that does not include 0, again aligning with the result that there is a significant difference between the means of players in the treatment vs. control groups in regards to 7-day retention."
      ],
      "metadata": {
        "id": "LaJhJy3uZzdp"
      }
    },
    {
      "cell_type": "markdown",
      "source": [
        "# Conclusions"
      ],
      "metadata": {
        "id": "7mE-Z2umWH_4"
      }
    },
    {
      "cell_type": "markdown",
      "source": [
        "The impact of raising the level cap from 30 to 40 was measured by two metrics:\n",
        "\n",
        "1.   The amount of game rounds played\n",
        "2.   The real life duration that the player continued to open the game"
      ],
      "metadata": {
        "id": "BuR-ZdXMWN6q"
      }
    },
    {
      "cell_type": "markdown",
      "source": [
        "The first metric's distribution was homogenous but not Normal, prompting the usage of the nonparametric Mann-Whitney U Test.\n",
        "\n",
        "The results yielded different answers based upon whether we used a one-tailed or two-tailed test. Because the former \"focuses all of its confidence\" in one direction, it's more sensitive to detecting changes, thus our interpretation is that increasing the level cap **does** significantly reduce the average amount of game rounds played by users.\n",
        "\n",
        "On the other hand, testing for a difference *at all* yields no significant evidence."
      ],
      "metadata": {
        "id": "StpOwFeZXc8k"
      }
    },
    {
      "cell_type": "markdown",
      "source": [
        "The second metric's distribution was binary, prompting the use of the Chi-Square Test. Again, there were different results based on whether we looked at 1-day vs. 7-day retention rates.\n",
        "\n",
        "While retention rates didn't significantly differ within the 1-day range, they did for the 7-day range, and quite confidently so."
      ],
      "metadata": {
        "id": "YJL_tY1WYtty"
      }
    },
    {
      "cell_type": "markdown",
      "source": [
        "Without dedicating more time and effort to a further A/B Test with extended metrics and duration ranges, the takeaway is as follows:\n",
        "\n",
        "Raising the level cap has a high enough detrimental influence on the number of game rounds played to be significant, yet also encourages a significant increase in long-term player retention.\n",
        "\n",
        "As a mobile game whose revenue presumably comes from microtransactions, the decision on whether or not to increase the level cap should be based on whether more game rounds played *or* more time played is more influential in coercing in-game purchases."
      ],
      "metadata": {
        "id": "nLTMOXJEZQRA"
      }
    },
    {
      "cell_type": "markdown",
      "source": [
        "## Potential Further Analysis:\n",
        "* Segmentation:\n",
        "Often, the impact of an A/B test can vary across different user segments (e.g., new vs. returning users, users from different acquisition channels). With demographic or behavioral data to segment users, analyzing the A/B test results within these segments could provide deeper insights.\n",
        "\n",
        "* Additional Metrics:\n",
        "There are likely other relevant metrics which, if enough data has been collected for, can be measurably impacted by moving the gate. Some examples could be purchase conversion rates, screen time spent IN game...\n",
        "\n",
        "* Adjusting Study Limitations:\n",
        "Being the first A/B Test Experiment done on this dataset, there were strict limitations on the parameters surrounding the data, e.g. a time frame of only 7 days, only one gate moved, etc. Sourcing more data for metrics such as retention beyond 7 days may also be useful information in determining how to increase revenue."
      ],
      "metadata": {
        "id": "-V3g0PkpaqVh"
      }
    }
  ]
}